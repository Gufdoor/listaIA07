{
 "cells": [
  {
   "attachments": {},
   "cell_type": "markdown",
   "metadata": {},
   "source": [
    "**Importing libraries**"
   ]
  },
  {
   "cell_type": "code",
   "execution_count": 135,
   "metadata": {},
   "outputs": [],
   "source": [
    "import numpy as np  # scientific computing tools"
   ]
  },
  {
   "attachments": {},
   "cell_type": "markdown",
   "metadata": {},
   "source": [
    "**Defining Sigmoid activation function structures**"
   ]
  },
  {
   "cell_type": "code",
   "execution_count": 136,
   "metadata": {},
   "outputs": [],
   "source": [
    "# returns sigmoid function value or sigmoid derivative of a x value, dependind\n",
    "# on @isDerivative parameter passed\n",
    "def sigmoid(x, isDerivative=False):\n",
    "    if isDerivative:\n",
    "        return sigmoid(x) * (1 - sigmoid(x))\n",
    "    return 1 / (1 + np.exp(-x))"
   ]
  },
  {
   "attachments": {},
   "cell_type": "markdown",
   "metadata": {},
   "source": [
    "**Defining TANH activation function structures**"
   ]
  },
  {
   "cell_type": "code",
   "execution_count": 137,
   "metadata": {},
   "outputs": [],
   "source": [
    "# returns TANH function value or TANH derivative of a x value, dependind\n",
    "# on @isDerivative parameter passed\n",
    "def tanh(x, isDerivative=False):\n",
    "    if isDerivative:\n",
    "        return 1 - np.tanh(x) ** 2\n",
    "    return np.tanh(x)"
   ]
  },
  {
   "attachments": {},
   "cell_type": "markdown",
   "metadata": {},
   "source": [
    "**Defining Backpropagation structure**"
   ]
  },
  {
   "cell_type": "code",
   "execution_count": 138,
   "metadata": {},
   "outputs": [],
   "source": [
    "class NeuralNetwork:\n",
    "    def __init__(self, input_size, hidden_size, output_size, learning_rate, activation_func):\n",
    "        self.input_size = input_size\n",
    "        self.hidden_size = hidden_size\n",
    "        self.output_size = output_size\n",
    "        self.learning_rate = learning_rate\n",
    "        self.activation_func = activation_func\n",
    "        # generates random weights values\n",
    "        self.weights1 = np.random.uniform(size=(self.input_size, self.hidden_size))\n",
    "        self.weights2 = np.random.uniform(size=(self.hidden_size, self.output_size))\n",
    "    \n",
    "    def feedforward(self, X):\n",
    "        # process hidden layer output with arguments weights and inputs\n",
    "        self.hidden_layer = self.activation_func(np.dot(X, self.weights1))\n",
    "\n",
    "        # process output layer based on hidden layer\n",
    "        self.output_layer = self.activation_func(np.dot(self.hidden_layer, self.weights2))\n",
    "        return self.output_layer\n",
    "    \n",
    "    # update weights based on error metrics to obtain more precise results\n",
    "    def backpropagation(self, X, y, output):\n",
    "        error = y - output\n",
    "\n",
    "        # process the derivative of the activation function applied \n",
    "        # to the dot product of the hidden layer\n",
    "        d_output = error * self.activation_func(np.dot(self.hidden_layer, self.weights2), isDerivative=True)\n",
    "\n",
    "        # process the error for the hidden layer by taking the dot product\n",
    "        error_hidden = d_output.dot(self.weights2.T)\n",
    "\n",
    "        # process the derivative of the activation function applied to the dot \n",
    "        # product of the input layer and the first set of weights\n",
    "        d_hidden = error_hidden * self.activation_func(np.dot(X, self.weights1), isDerivative=True)\n",
    "        self.weights1 += self.learning_rate * X.T.dot(d_hidden)\n",
    "        self.weights2 += self.learning_rate * self.hidden_layer.T.dot(d_output)\n",
    "    \n",
    "    def train(self, X, y):\n",
    "        output = self.feedforward(X)\n",
    "        self.backpropagation(X, y, output)"
   ]
  },
  {
   "attachments": {},
   "cell_type": "markdown",
   "metadata": {},
   "source": [
    "**Creating input samples to test AND operation**"
   ]
  },
  {
   "cell_type": "code",
   "execution_count": 139,
   "metadata": {},
   "outputs": [],
   "source": [
    "X = np.array([[0,0],[0,1],[1,0],[1,1]])\n",
    "y_and = np.array([[0],[0],[0],[1]])"
   ]
  },
  {
   "attachments": {},
   "cell_type": "markdown",
   "metadata": {},
   "source": [
    "*Testing AND prediction with Sigmoid*"
   ]
  },
  {
   "cell_type": "code",
   "execution_count": 140,
   "metadata": {},
   "outputs": [],
   "source": [
    "and_sigmoid = NeuralNetwork(2, 2, 1, 1, sigmoid)\n",
    "\n",
    "for i in range(10000):\n",
    "    and_sigmoid.train(X, y_and)"
   ]
  },
  {
   "attachments": {},
   "cell_type": "markdown",
   "metadata": {},
   "source": [
    "*Testing AND prediction with TANH*"
   ]
  },
  {
   "cell_type": "code",
   "execution_count": 141,
   "metadata": {},
   "outputs": [],
   "source": [
    "and_tanh = NeuralNetwork(2, 2, 1, 1, tanh)\n",
    "\n",
    "for i in range(10000):\n",
    "    and_tanh.train(X, y_and)"
   ]
  },
  {
   "attachments": {},
   "cell_type": "markdown",
   "metadata": {},
   "source": [
    "*Sigmoid AND results*"
   ]
  },
  {
   "cell_type": "code",
   "execution_count": 142,
   "metadata": {},
   "outputs": [
    {
     "name": "stdout",
     "output_type": "stream",
     "text": [
      "[[0.00139573]\n",
      " [0.00991014]\n",
      " [0.01044492]\n",
      " [0.49948785]]\n"
     ]
    }
   ],
   "source": [
    "print(and_sigmoid.feedforward(X))"
   ]
  },
  {
   "attachments": {},
   "cell_type": "markdown",
   "metadata": {},
   "source": [
    "*TANH AND results*"
   ]
  },
  {
   "cell_type": "code",
   "execution_count": 143,
   "metadata": {},
   "outputs": [
    {
     "name": "stdout",
     "output_type": "stream",
     "text": [
      "[[ 0.        ]\n",
      " [ 0.55304927]\n",
      " [-0.20384775]\n",
      " [ 0.85409958]]\n"
     ]
    }
   ],
   "source": [
    "print(and_tanh.feedforward(X))"
   ]
  },
  {
   "attachments": {},
   "cell_type": "markdown",
   "metadata": {},
   "source": [
    "**Creating input samples to test OR operation**"
   ]
  },
  {
   "cell_type": "code",
   "execution_count": 144,
   "metadata": {},
   "outputs": [],
   "source": [
    "X = np.array([[0,0],[0,1],[1,0],[1,1]])\n",
    "y_or = np.array([[0],[1],[1],[1]])"
   ]
  },
  {
   "attachments": {},
   "cell_type": "markdown",
   "metadata": {},
   "source": [
    "*Testing OR prediction with Sigmoid*"
   ]
  },
  {
   "cell_type": "code",
   "execution_count": 145,
   "metadata": {},
   "outputs": [],
   "source": [
    "or_sigmoid = NeuralNetwork(2, 2, 1, 1, sigmoid)\n",
    "\n",
    "for i in range(10000):\n",
    "    or_sigmoid.train(X, y_and)"
   ]
  },
  {
   "attachments": {},
   "cell_type": "markdown",
   "metadata": {},
   "source": [
    "*Testing OR prediction with TANH*"
   ]
  },
  {
   "cell_type": "code",
   "execution_count": 146,
   "metadata": {},
   "outputs": [],
   "source": [
    "or_tanh = NeuralNetwork(2, 2, 1, 1, tanh)\n",
    "\n",
    "for i in range(10000):\n",
    "    or_tanh.train(X, y_and)"
   ]
  },
  {
   "attachments": {},
   "cell_type": "markdown",
   "metadata": {},
   "source": [
    "*Sigmoid OR results*"
   ]
  },
  {
   "cell_type": "code",
   "execution_count": 147,
   "metadata": {},
   "outputs": [
    {
     "name": "stdout",
     "output_type": "stream",
     "text": [
      "[[0.00105014]\n",
      " [0.01036121]\n",
      " [0.00951478]\n",
      " [0.4994781 ]]\n"
     ]
    }
   ],
   "source": [
    "print(or_sigmoid.feedforward(X))"
   ]
  },
  {
   "attachments": {},
   "cell_type": "markdown",
   "metadata": {},
   "source": [
    "*TANH OR results*"
   ]
  },
  {
   "cell_type": "code",
   "execution_count": 148,
   "metadata": {},
   "outputs": [
    {
     "name": "stdout",
     "output_type": "stream",
     "text": [
      "[[ 0.        ]\n",
      " [ 0.55316385]\n",
      " [-0.20392081]\n",
      " [ 0.85430558]]\n"
     ]
    }
   ],
   "source": [
    "print(or_tanh.feedforward(X))"
   ]
  },
  {
   "attachments": {},
   "cell_type": "markdown",
   "metadata": {},
   "source": [
    "**Creating input samples to test XOR operations**"
   ]
  },
  {
   "cell_type": "code",
   "execution_count": 149,
   "metadata": {},
   "outputs": [],
   "source": [
    "X = np.array([[0,0],[0,1],[1,0],[1,1]])\n",
    "y_or = np.array([[0],[1],[1],[0]])"
   ]
  },
  {
   "attachments": {},
   "cell_type": "markdown",
   "metadata": {},
   "source": [
    "*Testing XOR prediction with Sigmoid*"
   ]
  },
  {
   "cell_type": "code",
   "execution_count": 150,
   "metadata": {},
   "outputs": [],
   "source": [
    "xor_sigmoid = NeuralNetwork(2, 2, 1, 1, sigmoid)\n",
    "\n",
    "for i in range(10000):\n",
    "    xor_sigmoid.train(X, y_and)"
   ]
  },
  {
   "attachments": {},
   "cell_type": "markdown",
   "metadata": {},
   "source": [
    "*Testing XOR prediction with TANH*"
   ]
  },
  {
   "cell_type": "code",
   "execution_count": 151,
   "metadata": {},
   "outputs": [],
   "source": [
    "xor_tanh = NeuralNetwork(2, 2, 1, 1, tanh)\n",
    "\n",
    "for i in range(10000):\n",
    "    xor_tanh.train(X, y_and)"
   ]
  },
  {
   "attachments": {},
   "cell_type": "markdown",
   "metadata": {},
   "source": [
    "*Sigmoid XOR results*"
   ]
  },
  {
   "cell_type": "code",
   "execution_count": 152,
   "metadata": {},
   "outputs": [
    {
     "name": "stdout",
     "output_type": "stream",
     "text": [
      "[[0.00218994]\n",
      " [0.02237539]\n",
      " [0.02900784]\n",
      " [0.97420458]]\n"
     ]
    }
   ],
   "source": [
    "print(xor_sigmoid.feedforward(X))"
   ]
  },
  {
   "attachments": {},
   "cell_type": "markdown",
   "metadata": {},
   "source": [
    "*TANH XOR results*"
   ]
  },
  {
   "cell_type": "code",
   "execution_count": 153,
   "metadata": {},
   "outputs": [
    {
     "name": "stdout",
     "output_type": "stream",
     "text": [
      "[[ 0.        ]\n",
      " [-0.20392375]\n",
      " [ 0.55316813]\n",
      " [ 0.85431324]]\n"
     ]
    }
   ],
   "source": [
    "print(xor_tanh.feedforward(X))"
   ]
  }
 ],
 "metadata": {
  "kernelspec": {
   "display_name": "Python 3 (ipykernel)",
   "language": "python",
   "name": "python3"
  },
  "language_info": {
   "codemirror_mode": {
    "name": "ipython",
    "version": 3
   },
   "file_extension": ".py",
   "mimetype": "text/x-python",
   "name": "python",
   "nbconvert_exporter": "python",
   "pygments_lexer": "ipython3",
   "version": "3.9.13"
  },
  "orig_nbformat": 4
 },
 "nbformat": 4,
 "nbformat_minor": 2
}
